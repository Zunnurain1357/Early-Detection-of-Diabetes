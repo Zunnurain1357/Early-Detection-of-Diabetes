{
 "cells": [
  {
   "cell_type": "code",
   "execution_count": null,
   "id": "fbe82852",
   "metadata": {
    "vscode": {
     "languageId": "plaintext"
    }
   },
   "outputs": [],
   "source": [
    "# This is a sample notebook to aviod leaving the folder empty "
   ]
  }
 ],
 "metadata": {
  "language_info": {
   "name": "python"
  }
 },
 "nbformat": 4,
 "nbformat_minor": 5
}
